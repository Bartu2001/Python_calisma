{
 "cells": [
  {
   "cell_type": "markdown",
   "id": "a5f1ebc6",
   "metadata": {},
   "source": [
    "Aşağıdaki string ifadelerden hata verecek olanları olanları işaretleyiniz.\n"
   ]
  },
  {
   "cell_type": "code",
   "execution_count": 2,
   "id": "b4004e7a",
   "metadata": {},
   "outputs": [
    {
     "data": {
      "text/plain": [
       "'Bu bir string ifadedir'"
      ]
     },
     "execution_count": 2,
     "metadata": {},
     "output_type": "execute_result"
    }
   ],
   "source": [
    "\"Bu bir string ifadedir\"\n"
   ]
  },
  {
   "cell_type": "code",
   "execution_count": 3,
   "id": "291c6812",
   "metadata": {},
   "outputs": [
    {
     "ename": "SyntaxError",
     "evalue": "invalid syntax (675437800.py, line 1)",
     "output_type": "error",
     "traceback": [
      "\u001b[0;36m  Cell \u001b[0;32mIn[3], line 1\u001b[0;36m\u001b[0m\n\u001b[0;31m    \"Bu bir \"string\" ifadedir\"\u001b[0m\n\u001b[0m             ^\u001b[0m\n\u001b[0;31mSyntaxError\u001b[0m\u001b[0;31m:\u001b[0m invalid syntax\n"
     ]
    }
   ],
   "source": [
    "\"Bu bir \"string\" ifadedir\""
   ]
  },
  {
   "cell_type": "code",
   "execution_count": 4,
   "id": "570ba96f",
   "metadata": {},
   "outputs": [
    {
     "data": {
      "text/plain": [
       "'Bu bir \"string\" ifadedir'"
      ]
     },
     "execution_count": 4,
     "metadata": {},
     "output_type": "execute_result"
    }
   ],
   "source": [
    "'Bu bir \"string\" ifadedir'"
   ]
  },
  {
   "cell_type": "code",
   "execution_count": 5,
   "id": "c5d0aed6",
   "metadata": {},
   "outputs": [
    {
     "data": {
      "text/plain": [
       "'Bu bir \"string\" ifadedir'"
      ]
     },
     "execution_count": 5,
     "metadata": {},
     "output_type": "execute_result"
    }
   ],
   "source": [
    "\"\"\"Bu bir \"string\" ifadedir\"\"\""
   ]
  },
  {
   "cell_type": "code",
   "execution_count": 6,
   "id": "4413f3b6",
   "metadata": {},
   "outputs": [
    {
     "ename": "SyntaxError",
     "evalue": "unterminated string literal (detected at line 1) (4273059838.py, line 1)",
     "output_type": "error",
     "traceback": [
      "\u001b[0;36m  Cell \u001b[0;32mIn[6], line 1\u001b[0;36m\u001b[0m\n\u001b[0;31m    \"Bu bir \"string\" ifadedir'\u001b[0m\n\u001b[0m                   ^\u001b[0m\n\u001b[0;31mSyntaxError\u001b[0m\u001b[0;31m:\u001b[0m unterminated string literal (detected at line 1)\n"
     ]
    }
   ],
   "source": [
    "\"Bu bir \"string\" ifadedir'"
   ]
  },
  {
   "cell_type": "markdown",
   "id": "4f8d773a",
   "metadata": {},
   "source": [
    "Aşağıdakilerden hangisi bir tam sayıdır?\n"
   ]
  },
  {
   "cell_type": "code",
   "execution_count": 10,
   "id": "6d50ae98",
   "metadata": {},
   "outputs": [],
   "source": [
    "#Tam sayı=int\n",
    "a=5\n",
    "a=-5.4\n",
    "b=-4.8\n",
    "a=\"ali\"\n"
   ]
  },
  {
   "cell_type": "code",
   "execution_count": 1,
   "id": "ba2de3f7",
   "metadata": {},
   "outputs": [],
   "source": [
    "a=5"
   ]
  },
  {
   "cell_type": "code",
   "execution_count": 2,
   "id": "eb456c23",
   "metadata": {},
   "outputs": [
    {
     "data": {
      "text/plain": [
       "int"
      ]
     },
     "execution_count": 2,
     "metadata": {},
     "output_type": "execute_result"
    }
   ],
   "source": [
    "type(a)"
   ]
  },
  {
   "cell_type": "code",
   "execution_count": 3,
   "id": "f15f2f75",
   "metadata": {},
   "outputs": [],
   "source": [
    "a=-5.4"
   ]
  },
  {
   "cell_type": "code",
   "execution_count": 4,
   "id": "295282c0",
   "metadata": {},
   "outputs": [
    {
     "data": {
      "text/plain": [
       "float"
      ]
     },
     "execution_count": 4,
     "metadata": {},
     "output_type": "execute_result"
    }
   ],
   "source": [
    "type(a)"
   ]
  },
  {
   "cell_type": "code",
   "execution_count": 5,
   "id": "dd53f62c",
   "metadata": {},
   "outputs": [],
   "source": [
    "b=-4.8"
   ]
  },
  {
   "cell_type": "code",
   "execution_count": 6,
   "id": "b81207f5",
   "metadata": {},
   "outputs": [
    {
     "data": {
      "text/plain": [
       "float"
      ]
     },
     "execution_count": 6,
     "metadata": {},
     "output_type": "execute_result"
    }
   ],
   "source": [
    "type(b)"
   ]
  },
  {
   "cell_type": "code",
   "execution_count": 7,
   "id": "90cd45e4",
   "metadata": {},
   "outputs": [],
   "source": [
    "a=\"ali\""
   ]
  },
  {
   "cell_type": "code",
   "execution_count": 8,
   "id": "b716ce74",
   "metadata": {},
   "outputs": [
    {
     "data": {
      "text/plain": [
       "str"
      ]
     },
     "execution_count": 8,
     "metadata": {},
     "output_type": "execute_result"
    }
   ],
   "source": [
    "type(a)"
   ]
  },
  {
   "cell_type": "markdown",
   "id": "14078e70",
   "metadata": {},
   "source": [
    "                                 "
   ]
  },
  {
   "cell_type": "markdown",
   "id": "a54926ec",
   "metadata": {},
   "source": [
    "                                  "
   ]
  },
  {
   "cell_type": "markdown",
   "id": "bb1ec8f1",
   "metadata": {},
   "source": [
    "                       "
   ]
  },
  {
   "cell_type": "raw",
   "id": "9bd15dac",
   "metadata": {},
   "source": [
    "#Cevap A şıkkıdır\n",
    "a=complex(3,4) ifadesindeki a kompleks sayısının eşleneğini nasıl buluruz?\n",
    "\n",
    "a.conjugate()\n",
    "a=a.real\n",
    "a=a.imag\n",
    "a.conjugate\n"
   ]
  },
  {
   "cell_type": "markdown",
   "id": "a845cde9",
   "metadata": {},
   "source": [
    "                                "
   ]
  },
  {
   "cell_type": "markdown",
   "id": "5ea2678e",
   "metadata": {},
   "source": [
    "                        "
   ]
  },
  {
   "cell_type": "raw",
   "id": "7cfdcd47",
   "metadata": {},
   "source": [
    "#Cevap A şıkkıdır\n",
    "rgb(f,f,f) hangi renktir\n",
    "\n",
    "\n",
    "Beyaz\n",
    "Siyah\n",
    "Mavi\n",
    "Kırmızı\n",
    "Yeşil"
   ]
  },
  {
   "cell_type": "markdown",
   "id": "2b85d1bf",
   "metadata": {},
   "source": [
    "                                "
   ]
  },
  {
   "cell_type": "markdown",
   "id": "4f4fe511",
   "metadata": {},
   "source": [
    "                                            "
   ]
  },
  {
   "cell_type": "markdown",
   "id": "fb248831",
   "metadata": {},
   "source": [
    "ifade=\"Bu ifade bir karakter dizisidir\" şeklinde oluşturulan ifade değişkeni için şağıdaki ifadelerden hangisi hata verir?"
   ]
  },
  {
   "cell_type": "raw",
   "id": "3a2369ea",
   "metadata": {},
   "source": [
    "#Cevap D şıkkıdır\n",
    "len(ifade)\n",
    "ifade[2]\n",
    "ifade[3:8:2]\n",
    "ifade=ifade*5\n",
    "ifade[3]=\"k\"\n",
    "ifade[3]==\"k\""
   ]
  },
  {
   "cell_type": "code",
   "execution_count": 17,
   "id": "b8b1c385",
   "metadata": {},
   "outputs": [],
   "source": [
    "ifade=\"Bu ifade bir karakter dizisidir\""
   ]
  },
  {
   "cell_type": "code",
   "execution_count": 18,
   "id": "61cd2ac1",
   "metadata": {},
   "outputs": [
    {
     "data": {
      "text/plain": [
       "31"
      ]
     },
     "execution_count": 18,
     "metadata": {},
     "output_type": "execute_result"
    }
   ],
   "source": [
    "len(ifade)"
   ]
  },
  {
   "cell_type": "code",
   "execution_count": 19,
   "id": "ebadbc30",
   "metadata": {},
   "outputs": [
    {
     "data": {
      "text/plain": [
       "' '"
      ]
     },
     "execution_count": 19,
     "metadata": {},
     "output_type": "execute_result"
    }
   ],
   "source": [
    "ifade[2]"
   ]
  },
  {
   "cell_type": "code",
   "execution_count": 20,
   "id": "b2c7d8d0",
   "metadata": {},
   "outputs": [
    {
     "data": {
      "text/plain": [
       "'iae'"
      ]
     },
     "execution_count": 20,
     "metadata": {},
     "output_type": "execute_result"
    }
   ],
   "source": [
    "ifade[3:8:2]"
   ]
  },
  {
   "cell_type": "code",
   "execution_count": 21,
   "id": "3d43a980",
   "metadata": {
    "scrolled": true
   },
   "outputs": [
    {
     "ename": "TypeError",
     "evalue": "'str' object does not support item assignment",
     "output_type": "error",
     "traceback": [
      "\u001b[0;31m---------------------------------------------------------------------------\u001b[0m",
      "\u001b[0;31mTypeError\u001b[0m                                 Traceback (most recent call last)",
      "Cell \u001b[0;32mIn[21], line 1\u001b[0m\n\u001b[0;32m----> 1\u001b[0m ifade[\u001b[38;5;241m3\u001b[39m]\u001b[38;5;241m=\u001b[39m\u001b[38;5;124m\"\u001b[39m\u001b[38;5;124mk\u001b[39m\u001b[38;5;124m\"\u001b[39m\n",
      "\u001b[0;31mTypeError\u001b[0m: 'str' object does not support item assignment"
     ]
    }
   ],
   "source": [
    "ifade[3]=\"k\""
   ]
  },
  {
   "cell_type": "code",
   "execution_count": 22,
   "id": "ccaee40d",
   "metadata": {
    "scrolled": true
   },
   "outputs": [
    {
     "data": {
      "text/plain": [
       "False"
      ]
     },
     "execution_count": 22,
     "metadata": {},
     "output_type": "execute_result"
    }
   ],
   "source": [
    "ifade[3]==\"k\""
   ]
  },
  {
   "cell_type": "markdown",
   "id": "a9deee7b",
   "metadata": {},
   "source": [
    "                "
   ]
  },
  {
   "cell_type": "markdown",
   "id": "31ca98c3",
   "metadata": {},
   "source": [
    "                "
   ]
  },
  {
   "cell_type": "markdown",
   "id": "d93c9df1",
   "metadata": {},
   "source": [
    "Kullanıcıların vücut-kitle indeksini hesaplamak istiyoruz. VKİ = Ağırlık (Kg) / boyun metre cinsinden değerinin karesi olduğunu biliyoruz. Bunun için, yazılan kodda ####### olarak gösterilen yere ne gelmelidir?"
   ]
  },
  {
   "cell_type": "raw",
   "id": "0dbe328f",
   "metadata": {},
   "source": [
    "print =( \n",
    "\"\"\"\n",
    "##########################################\n",
    "Bu program, vicut kitle endeksini hesaplar.\n",
    "##########################################\n",
    "\"\"\"\n",
    ")\n",
    "\n",
    "#Kullanıcıdan ağırlığını alalım.\n",
    "agirlik = float(input(\"Lütfen ağırlığınızı kg cinsinden giriniz\"))\n",
    "boy = float(input(Lütfen Boyunuzu metre cinsinden giriniz))\n",
    "\n",
    "vki=##########\n",
    "\n",
    "print(\"Vicut kitle endeksiniz:\",vki)\n",
    "\n"
   ]
  },
  {
   "cell_type": "raw",
   "id": "238a58a9",
   "metadata": {},
   "source": [
    "#Şıklar\n",
    "#Cevap C\n",
    "ağırlık / boy ** 2\n",
    "ağırlık / math.pow(boy , 2 )\n",
    "agirlik / (boy ** 2)\n",
    "ağirlık / math.sqrt(boy , 0.5 )"
   ]
  },
  {
   "cell_type": "code",
   "execution_count": null,
   "id": "3a30cf7c",
   "metadata": {
    "scrolled": true
   },
   "outputs": [],
   "source": [
    "print =( \n",
    "\"\"\"\n",
    "##########################################\n",
    "Bu program, vücut kitle endeksini hesaplar.\n",
    "##########################################\n",
    "\"\"\"\n",
    ")\n",
    "\n",
    "#Kullanıcıdan ağırlığını alalım.\n",
    "agirlik = float(input(\"Lütfen ağırlığınızı kg cinsinden giriniz\"))\n",
    "boy = float(input(\"Lütfen Boyunuzu metre cinsinden giriniz\"))\n",
    "\n",
    "Vki= agirlik / (boy ** 2)\n",
    "\n",
    "print(\"Vücut kitle İndexiniz:\",Vki)\n",
    "\n"
   ]
  },
  {
   "cell_type": "markdown",
   "id": "b0955f27",
   "metadata": {},
   "source": [
    "                "
   ]
  },
  {
   "cell_type": "markdown",
   "id": "5475493a",
   "metadata": {},
   "source": [
    "                        "
   ]
  },
  {
   "cell_type": "markdown",
   "id": "e0840998",
   "metadata": {},
   "source": [
    "Aşağıda tanımlanan değişkenlerden hatalı olanları işaretleyiniz.\n"
   ]
  },
  {
   "cell_type": "code",
   "execution_count": 48,
   "id": "98ff9d88",
   "metadata": {},
   "outputs": [],
   "source": [
    "gunluk_calisma_saati=5\n"
   ]
  },
  {
   "cell_type": "code",
   "execution_count": 49,
   "id": "113476d4",
   "metadata": {
    "scrolled": true
   },
   "outputs": [
    {
     "ename": "SyntaxError",
     "evalue": "invalid decimal literal (3796704840.py, line 1)",
     "output_type": "error",
     "traceback": [
      "\u001b[0;36m  Cell \u001b[0;32mIn[49], line 1\u001b[0;36m\u001b[0m\n\u001b[0;31m    1elinNesiVar=5\u001b[0m\n\u001b[0m    ^\u001b[0m\n\u001b[0;31mSyntaxError\u001b[0m\u001b[0;31m:\u001b[0m invalid decimal literal\n"
     ]
    }
   ],
   "source": [
    "1elinNesiVar=5"
   ]
  },
  {
   "cell_type": "code",
   "execution_count": 55,
   "id": "b98ffd98",
   "metadata": {},
   "outputs": [],
   "source": [
    "sicaklık_katsayisi_3=5"
   ]
  },
  {
   "cell_type": "code",
   "execution_count": 52,
   "id": "25a70e60",
   "metadata": {},
   "outputs": [
    {
     "ename": "SyntaxError",
     "evalue": "invalid syntax (483354771.py, line 1)",
     "output_type": "error",
     "traceback": [
      "\u001b[0;36m  Cell \u001b[0;32mIn[52], line 1\u001b[0;36m\u001b[0m\n\u001b[0;31m    aracsah!ibi=5\u001b[0m\n\u001b[0m           ^\u001b[0m\n\u001b[0;31mSyntaxError\u001b[0m\u001b[0;31m:\u001b[0m invalid syntax\n"
     ]
    }
   ],
   "source": [
    "aracsah!ibi=5"
   ]
  },
  {
   "cell_type": "code",
   "execution_count": 54,
   "id": "84dc34ee",
   "metadata": {
    "scrolled": false
   },
   "outputs": [
    {
     "ename": "SyntaxError",
     "evalue": "invalid syntax (3565831584.py, line 1)",
     "output_type": "error",
     "traceback": [
      "\u001b[0;36m  Cell \u001b[0;32mIn[54], line 1\u001b[0;36m\u001b[0m\n\u001b[0;31m    is=5\u001b[0m\n\u001b[0m    ^\u001b[0m\n\u001b[0;31mSyntaxError\u001b[0m\u001b[0;31m:\u001b[0m invalid syntax\n"
     ]
    }
   ],
   "source": [
    "is=5"
   ]
  },
  {
   "cell_type": "markdown",
   "id": "d5299c3a",
   "metadata": {},
   "source": [
    "                        "
   ]
  },
  {
   "cell_type": "markdown",
   "id": "59432bac",
   "metadata": {},
   "source": [
    "comp=complex(3,4) karmaşık sayısının reel kısmının  karesini alıp x değişkenine atamak sitiyoruz. Bunun için gereken kod nedir.\n",
    "\n"
   ]
  },
  {
   "cell_type": "raw",
   "id": "82772f3e",
   "metadata": {},
   "source": [
    "#Cevap B\n",
    "x=comp.real()**2\n",
    "x=comp.real**2\n",
    "x = real ** 2\n",
    "x = complex.real ** 2"
   ]
  },
  {
   "cell_type": "code",
   "execution_count": 63,
   "id": "444eedc1",
   "metadata": {},
   "outputs": [],
   "source": [
    "comp=complex(3,4)"
   ]
  },
  {
   "cell_type": "code",
   "execution_count": 66,
   "id": "1ca0aac4",
   "metadata": {},
   "outputs": [],
   "source": [
    "x=comp.real**2"
   ]
  },
  {
   "cell_type": "code",
   "execution_count": 67,
   "id": "00db4ec2",
   "metadata": {
    "scrolled": true
   },
   "outputs": [
    {
     "data": {
      "text/plain": [
       "9.0"
      ]
     },
     "execution_count": 67,
     "metadata": {},
     "output_type": "execute_result"
    }
   ],
   "source": [
    "x"
   ]
  },
  {
   "cell_type": "markdown",
   "id": "97c22c2d",
   "metadata": {},
   "source": [
    "                "
   ]
  },
  {
   "cell_type": "markdown",
   "id": "f3ee4ac4",
   "metadata": {},
   "source": [
    "                "
   ]
  },
  {
   "cell_type": "markdown",
   "id": "9a81ac38",
   "metadata": {},
   "source": [
    "                "
   ]
  },
  {
   "cell_type": "markdown",
   "id": "9815fb88",
   "metadata": {},
   "source": [
    "x=3.458 değişkeni tanımlanmıştır. print(int(x)) işleminin sonucu nedir?\n"
   ]
  },
  {
   "cell_type": "code",
   "execution_count": 1,
   "id": "3abba80e",
   "metadata": {},
   "outputs": [],
   "source": [
    "x=3.458 "
   ]
  },
  {
   "cell_type": "code",
   "execution_count": 2,
   "id": "70088a5c",
   "metadata": {},
   "outputs": [
    {
     "data": {
      "text/plain": [
       "3"
      ]
     },
     "execution_count": 2,
     "metadata": {},
     "output_type": "execute_result"
    }
   ],
   "source": [
    "int(x)"
   ]
  },
  {
   "cell_type": "markdown",
   "id": "36f831d1",
   "metadata": {},
   "source": [
    "                "
   ]
  },
  {
   "cell_type": "markdown",
   "id": "31359dd4",
   "metadata": {},
   "source": [
    "                "
   ]
  },
  {
   "cell_type": "markdown",
   "id": "75f22e9e",
   "metadata": {},
   "source": [
    "                "
   ]
  },
  {
   "cell_type": "markdown",
   "id": "be1fb924",
   "metadata": {},
   "source": [
    "String bir ifadenin sadece ilk karakterini büyültmek istiyorsak hangi fonksiyonu kullanırız?\n",
    "\n"
   ]
  },
  {
   "cell_type": "raw",
   "id": "7cba323c",
   "metadata": {},
   "source": [
    "#Cevap D\n",
    "caption()\n",
    "title()\n",
    "upper()\n",
    "capitalize( )\n",
    "firstletter()"
   ]
  },
  {
   "cell_type": "markdown",
   "id": "051a84d5",
   "metadata": {},
   "source": [
    "                "
   ]
  },
  {
   "cell_type": "raw",
   "id": "58b1c94f",
   "metadata": {},
   "source": [
    " strg=\"5649875064316080709\" değişkeninde strg.find(\"0\") ve strg.find(\"10\") değerlerinin çıktısı ne olur?          \n"
   ]
  },
  {
   "cell_type": "code",
   "execution_count": 80,
   "id": "ea1aa997",
   "metadata": {},
   "outputs": [],
   "source": [
    "strg=\"5649875064316080709\""
   ]
  },
  {
   "cell_type": "code",
   "execution_count": 81,
   "id": "05fc43a7",
   "metadata": {},
   "outputs": [
    {
     "data": {
      "text/plain": [
       "7"
      ]
     },
     "execution_count": 81,
     "metadata": {},
     "output_type": "execute_result"
    }
   ],
   "source": [
    "strg.find(\"0\")"
   ]
  },
  {
   "cell_type": "code",
   "execution_count": 82,
   "id": "34c005f1",
   "metadata": {
    "scrolled": true
   },
   "outputs": [
    {
     "data": {
      "text/plain": [
       "-1"
      ]
     },
     "execution_count": 82,
     "metadata": {},
     "output_type": "execute_result"
    }
   ],
   "source": [
    "strg.find(\"10\")"
   ]
  },
  {
   "cell_type": "markdown",
   "id": "88b12841",
   "metadata": {},
   "source": [
    "            "
   ]
  },
  {
   "cell_type": "markdown",
   "id": "04d15911",
   "metadata": {},
   "source": [
    "strg=\"5649875064316080709\" değişkeninde strg.index(\"10\",5,20) ifadesinin değeri kaçtır?"
   ]
  },
  {
   "cell_type": "code",
   "execution_count": 5,
   "id": "3cabee9e",
   "metadata": {},
   "outputs": [],
   "source": [
    "strg=\"5649875064316080709\"   #Cevap = Kod hata verir"
   ]
  },
  {
   "cell_type": "code",
   "execution_count": 4,
   "id": "e65dd5d6",
   "metadata": {
    "scrolled": false
   },
   "outputs": [
    {
     "ename": "ValueError",
     "evalue": "substring not found",
     "output_type": "error",
     "traceback": [
      "\u001b[0;31m---------------------------------------------------------------------------\u001b[0m",
      "\u001b[0;31mValueError\u001b[0m                                Traceback (most recent call last)",
      "Cell \u001b[0;32mIn[4], line 1\u001b[0m\n\u001b[0;32m----> 1\u001b[0m \u001b[43mstrg\u001b[49m\u001b[38;5;241;43m.\u001b[39;49m\u001b[43mindex\u001b[49m\u001b[43m(\u001b[49m\u001b[38;5;124;43m\"\u001b[39;49m\u001b[38;5;124;43m10\u001b[39;49m\u001b[38;5;124;43m\"\u001b[39;49m\u001b[43m,\u001b[49m\u001b[38;5;241;43m5\u001b[39;49m\u001b[43m,\u001b[49m\u001b[38;5;241;43m20\u001b[39;49m\u001b[43m)\u001b[49m\n",
      "\u001b[0;31mValueError\u001b[0m: substring not found"
     ]
    }
   ],
   "source": [
    "strg.index(\"10\",5,20)"
   ]
  },
  {
   "cell_type": "markdown",
   "id": "c2e1aa87",
   "metadata": {},
   "source": [
    "            "
   ]
  },
  {
   "cell_type": "markdown",
   "id": "18ff4187",
   "metadata": {},
   "source": [
    "Tc_kimlik_no=\"125 456 256 25\" değişkeni tanımlanmıştır. Tc_kimlik_no.isdigit() işlemi hangi sonucu verir?"
   ]
  },
  {
   "cell_type": "code",
   "execution_count": 85,
   "id": "f9447e5f",
   "metadata": {},
   "outputs": [],
   "source": [
    "Tc_kimlik_no=\"125 456 256 25\""
   ]
  },
  {
   "cell_type": "code",
   "execution_count": 87,
   "id": "da865006",
   "metadata": {
    "scrolled": true
   },
   "outputs": [
    {
     "data": {
      "text/plain": [
       "False"
      ]
     },
     "execution_count": 87,
     "metadata": {},
     "output_type": "execute_result"
    }
   ],
   "source": [
    "Tc_kimlik_no.isdigit()"
   ]
  },
  {
   "cell_type": "markdown",
   "id": "9e08c43c",
   "metadata": {},
   "source": [
    "        "
   ]
  },
  {
   "cell_type": "markdown",
   "id": "a68fd3dc",
   "metadata": {},
   "source": [
    "txt=\"Ne GüZEL baHar, kuşLAR ÇiÇekler\" değişkenini \"Ne Güzel Bahar Kuşlar Çiçekler\" olarak değiştirmek istiyoruz. Bunu yapmak için aşağıdaki kodlardan hangisi doğrudur?"
   ]
  },
  {
   "cell_type": "raw",
   "id": "a37e7abc",
   "metadata": {
    "scrolled": true
   },
   "source": [
    "#Cevap D\n",
    "txt=txt.capitalize()\n",
    "txt=txt.lower().capitalize()\n",
    "txt=txt.upper.title()\n",
    "txt=txt.lower().title()\n",
    "txt=txt.lower.capitalize"
   ]
  },
  {
   "cell_type": "code",
   "execution_count": 142,
   "id": "c4d6be78",
   "metadata": {},
   "outputs": [],
   "source": [
    "txt=\"Ne GüZEL baHar, kuşLAR ÇiÇekler\""
   ]
  },
  {
   "cell_type": "code",
   "execution_count": 145,
   "id": "68fc253c",
   "metadata": {
    "scrolled": true
   },
   "outputs": [],
   "source": [
    "txt=txt.lower().title()"
   ]
  },
  {
   "cell_type": "code",
   "execution_count": 149,
   "id": "8962d61a",
   "metadata": {},
   "outputs": [
    {
     "data": {
      "text/plain": [
       "'Ne güzel bahar, kuşlar çiçekler'"
      ]
     },
     "execution_count": 149,
     "metadata": {},
     "output_type": "execute_result"
    }
   ],
   "source": [
    "txt"
   ]
  },
  {
   "cell_type": "markdown",
   "id": "9a287f3a",
   "metadata": {},
   "source": [
    "                "
   ]
  },
  {
   "cell_type": "markdown",
   "id": "05cc508a",
   "metadata": {},
   "source": [
    "                "
   ]
  },
  {
   "cell_type": "markdown",
   "id": "437964ab",
   "metadata": {},
   "source": [
    "Bir blog sitesi tasarlıyoruz ve bu blog sitesinde üste fotoğraf, onun altına blog başlığı ve onun altına da blog metninin ilk 200 karakterini getirmek istiyoruz. blog metnini blog_metni değişkeninde tuttuğumuzu varsayalım. İlk 200 karakteri alan kod nedir?"
   ]
  },
  {
   "cell_type": "raw",
   "id": "c913ae76",
   "metadata": {},
   "source": [
    "#Cevap B\n",
    "blog_metni[0:200:3]\n",
    "blog_metni[0:200]\n",
    "blog_metni[0:199]\n",
    "blog_metni[0:200:2]"
   ]
  },
  {
   "cell_type": "markdown",
   "id": "805dabf7",
   "metadata": {},
   "source": [
    "            \n",
    "            "
   ]
  },
  {
   "cell_type": "markdown",
   "id": "e2cdefbf",
   "metadata": {},
   "source": [
    "Sin, cos, pow, sqrt gibi matematiksel fonksiyonları kullanmak için python kod bloğumuzun başına ne yazmamız gerekir?\n"
   ]
  },
  {
   "cell_type": "raw",
   "id": "38ffc788",
   "metadata": {},
   "source": [
    "#Cevap B\n",
    "import functions\n",
    "import math\n",
    "from python import math as m\n",
    "import mathematics"
   ]
  },
  {
   "cell_type": "markdown",
   "id": "6b8e3232",
   "metadata": {},
   "source": [
    "    "
   ]
  },
  {
   "cell_type": "markdown",
   "id": "7d4d60ff",
   "metadata": {},
   "source": [
    "Python kod bloğumuzun başında matematiksel ifadeleri içeren kütüphaneyi eklediğimizi varsayalım. 5'in 2'li kombinasyonunu veren ifade nedir?\n"
   ]
  },
  {
   "cell_type": "code",
   "execution_count": 8,
   "id": "0ba60298",
   "metadata": {},
   "outputs": [],
   "source": [
    "import math"
   ]
  },
  {
   "cell_type": "raw",
   "id": "7865c314",
   "metadata": {},
   "source": [
    "math.perm(5,2)\n",
    "math.comb(5,2)\n",
    "math.pow(5,2)\n",
    "math.factorial(5) / math.factorial(5-2)"
   ]
  },
  {
   "cell_type": "code",
   "execution_count": 9,
   "id": "d5064613",
   "metadata": {
    "scrolled": true
   },
   "outputs": [
    {
     "data": {
      "text/plain": [
       "10"
      ]
     },
     "execution_count": 9,
     "metadata": {},
     "output_type": "execute_result"
    }
   ],
   "source": [
    "math.comb(5,2)"
   ]
  },
  {
   "cell_type": "markdown",
   "id": "6a62e158",
   "metadata": {},
   "source": [
    "    "
   ]
  },
  {
   "cell_type": "markdown",
   "id": "d18b59e8",
   "metadata": {},
   "source": [
    "175 derecenin sinüsünü gösteren kod nedir?."
   ]
  },
  {
   "cell_type": "code",
   "execution_count": 160,
   "id": "294a8b26",
   "metadata": {},
   "outputs": [
    {
     "data": {
      "text/plain": [
       "0.0871557427476582"
      ]
     },
     "execution_count": 160,
     "metadata": {},
     "output_type": "execute_result"
    }
   ],
   "source": [
    "math.sin(math.radians(175))"
   ]
  },
  {
   "cell_type": "markdown",
   "id": "c55c32c6",
   "metadata": {},
   "source": [
    "    "
   ]
  },
  {
   "cell_type": "markdown",
   "id": "9be4cfcc",
   "metadata": {},
   "source": [
    "175'in 84 sayısına bölümünden kalanı bulmaya yarayan kod nedir?\n"
   ]
  },
  {
   "cell_type": "raw",
   "id": "2a630e9d",
   "metadata": {},
   "source": [
    "#Cevap D\n",
    "175 // 84\n",
    "175 / 84\n",
    "math.gcd(175, 84)\n",
    "175 % 84"
   ]
  },
  {
   "cell_type": "code",
   "execution_count": 162,
   "id": "3387ff76",
   "metadata": {},
   "outputs": [
    {
     "data": {
      "text/plain": [
       "2"
      ]
     },
     "execution_count": 162,
     "metadata": {},
     "output_type": "execute_result"
    }
   ],
   "source": [
    "175 // 84"
   ]
  },
  {
   "cell_type": "code",
   "execution_count": 161,
   "id": "612d5f04",
   "metadata": {},
   "outputs": [
    {
     "data": {
      "text/plain": [
       "2.0833333333333335"
      ]
     },
     "execution_count": 161,
     "metadata": {},
     "output_type": "execute_result"
    }
   ],
   "source": [
    "175 / 84"
   ]
  },
  {
   "cell_type": "code",
   "execution_count": 10,
   "id": "229802f2",
   "metadata": {},
   "outputs": [
    {
     "data": {
      "text/plain": [
       "7"
      ]
     },
     "execution_count": 10,
     "metadata": {},
     "output_type": "execute_result"
    }
   ],
   "source": [
    "math.gcd(175,84)"
   ]
  },
  {
   "cell_type": "code",
   "execution_count": 163,
   "id": "5b94ba44",
   "metadata": {},
   "outputs": [
    {
     "data": {
      "text/plain": [
       "7"
      ]
     },
     "execution_count": 163,
     "metadata": {},
     "output_type": "execute_result"
    }
   ],
   "source": [
    "175 % 84"
   ]
  }
 ],
 "metadata": {
  "kernelspec": {
   "display_name": "Python 3 (ipykernel)",
   "language": "python",
   "name": "python3"
  },
  "language_info": {
   "codemirror_mode": {
    "name": "ipython",
    "version": 3
   },
   "file_extension": ".py",
   "mimetype": "text/x-python",
   "name": "python",
   "nbconvert_exporter": "python",
   "pygments_lexer": "ipython3",
   "version": "3.10.9"
  }
 },
 "nbformat": 4,
 "nbformat_minor": 5
}
